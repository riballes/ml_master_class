{
 "cells": [
  {
   "cell_type": "markdown",
   "metadata": {},
   "source": [
    "# Week 6 Assignment"
   ]
  },
  {
   "cell_type": "markdown",
   "metadata": {},
   "source": [
    "## Description\n",
    "\n",
    "\n",
    "This week you will begin a final project in this course broken up over different assignments in the last three weeks. Choose a machine learning appropriate dataset and import it into Python using Pandas or NumPy. If you are using a classification dataset, your target must be one-hot encoded. You will need to import the dataset so it is compatible with Scikit-learn/Keras, and it may not be one we have used previously in class. Finish this assignment by splitting the dataset into training and testing sets."
   ]
  },
  {
   "cell_type": "markdown",
   "metadata": {},
   "source": [
    "## Introduction\n",
    "\n",
    "\n",
    "Keras is a high-level neural networks API, written in Python and capable of running on top of TensorFlow, CNTK, or Theano. It was developed with a focus on enabling fast experimentation. Being able to go from idea to result with the least possible delay is key to doing good research, but in order to do that, there is a critical condition to be sorted out, findinfinding the right dataset to test and build predictive models.\n",
    "\n",
    "That is a key aspect and a common problem in Machine Learning. Fortunately, the <a href=\"https://keras.io/datasets/\">Keras.Datasets</a> module already includes methods to load and fetch popular reference datasets. Here's the list of available datasets:\n",
    "\n",
    "<ul>\n",
    "  <li><b>boston_housing module:</b> Boston housing price regression dataset.</li>\n",
    "  <li><b>cifar10 module:</b> CIFAR10 small images classification dataset (classification of 10 image labels).</li>\n",
    "  <li><b>cifar100 module:</b> CIFAR100 small images classification dataset (classification of 100 image labels).</li>\n",
    "  <li><b>fashion_mnist module:</b> Fashion-MNIST dataset (classification of 10 digits).</li>\n",
    "  <li><b>imdb module:</b> IMDB sentiment classification dataset (classification of 10 fashion categories).</li>\n",
    "  <li><b>mnist module:</b> MNIST handwritten digits dataset (binary text classification).</li>\n",
    "  <li><b>reuters module:</b> Reuters topic classification dataset(multiclass text classification).</li>\n",
    "</ul>"
   ]
  },
  {
   "cell_type": "markdown",
   "metadata": {},
   "source": [
    "## Implementation\n",
    "\n",
    "\n",
    "For our purposes, and considering the considerations made on the assignment description, I have choose the CIRFAR10 as Dataset for the upcomming project.\n",
    "\n",
    "<b><ins>CIFAR10:</ins></b> The CIFAR-10 dataset consists of 60000 32x32 colour images in 10 classes, with 6000 images per class. There are 50000 training images and 10000 test images. The dataset information and details can be found <a href=\"https://www.cs.toronto.edu/~kriz/cifar.html\">here</a>.\n",
    "\n",
    "he CIFAR-10 and CIFAR-100 are labeled subsets of the 80 million tiny images dataset. They were collected by Alex Krizhevsky, Vinod Nair, and Geoffrey Hinton.The tech report <a href=\"https://www.cs.toronto.edu/~kriz/learning-features-2009-TR.pdf\">Learning Multiple Layers of Features from Tiny Images, 2009</a> on its Chapter 3, describes the dataset and the methodology followed when collecting it in much greater detail.\n",
    "\n",
    "Considering that the scope of the present assignment is to load the dataset validating its format and split it into training and testing groups\n"
   ]
  },
  {
   "cell_type": "markdown",
   "metadata": {},
   "source": [
    "### Step by Step\n",
    "\n",
    "The core data structure of Keras is a model, a way to organize layers. The simplest type of model is the Sequential model, a linear stack of layers. Even that is not going to be used at this time, it is convenient to consider it since is going to be a vital part of our project.\n",
    "\n",
    "Also, as described above, we will be using the build-in dataset CIFAR10.\n"
   ]
  },
  {
   "cell_type": "code",
   "execution_count": 1,
   "metadata": {},
   "outputs": [
    {
     "name": "stderr",
     "output_type": "stream",
     "text": [
      "/usr/local/lib/python2.7/dist-packages/h5py/__init__.py:36: FutureWarning: Conversion of the second argument of issubdtype from `float` to `np.floating` is deprecated. In future, it will be treated as `np.float64 == np.dtype(float).type`.\n",
      "  from ._conv import register_converters as _register_converters\n",
      "Using Theano backend.\n"
     ]
    }
   ],
   "source": [
    "%matplotlib inline\n",
    "import matplotlib.pyplot as plt\n",
    "import numpy as np\n",
    "from keras.datasets import cifar10\n",
    "from keras.models import Sequential\n",
    "from termcolor import colored\n",
    "\n",
    "# Showing the shape of the training and testing datasets\n",
    "def show_shapes(x_train, y_train, x_test, y_test, color='blue'):\n",
    "    print(colored('Training:', color, attrs=['bold']))\n",
    "    print('  x_train.shape:', x_train.shape)\n",
    "    print('  y_train.shape:', y_train.shape)\n",
    "    print(colored('\\nTesting:', color, attrs=['bold']))\n",
    "    print('  x_test.shape:', x_test.shape)\n",
    "    print('  y_test.shape:', y_test.shape)\n",
    "    \n",
    "def plot_data(my_data, cmap=None):\n",
    "    plt.axis('off')\n",
    "    fig = plt.imshow(my_data, cmap=cmap)\n",
    "    fig.axes.get_xaxis().set_visible(False)\n",
    "    fig.axes.get_yaxis().set_visible(False)\n",
    "    print(fig)\n",
    "\n",
    "# Showing the x,y array for a sample image    \n",
    "def show_sample(x_train, y_train, idx=0, color='blue'):\n",
    "    print(colored('x_train sample:', color, attrs=['bold']))\n",
    "    print(x_train[idx])\n",
    "    print(colored('\\ny_train sample:', color, attrs=['bold']))\n",
    "    print(y_train[idx])\n",
    "\n",
    "    # Showing the image from the x,y array sample previously given    \n",
    "def show_sample_image(x_train, y_train, idx=0, color='blue', cmap=None):\n",
    "    print(colored('Label:', color, attrs=['bold']), y_train[idx])\n",
    "    print(colored('Shape:', color, attrs=['bold']), x_train[idx].shape)\n",
    "    print()\n",
    "    plot_data(x_train[idx], cmap=cmap)\n",
    "\n",
    "    \n",
    "# Declare variables\n",
    "num_classes = 10\n",
    "class_label=['airplane','automobile','bird','cat','deer','dog','frog','horse','ship','trunk']\n",
    "\n",
    "# Declare Sequential Model\n",
    "#model = Sequential()"
   ]
  },
  {
   "cell_type": "markdown",
   "metadata": {},
   "source": [
    "Now, we are going to load CIFAR10 dataset into our model, obtaining two tuples of Numpy arrays: \n",
    "\n",
    "<b><i> (x_train, y_train), (x_test, y_test). </i></b>\n"
   ]
  },
  {
   "cell_type": "code",
   "execution_count": 7,
   "metadata": {},
   "outputs": [
    {
     "name": "stdout",
     "output_type": "stream",
     "text": [
      "\u001b[1m\u001b[34mTraining:\u001b[0m\n",
      "('  x_train.shape:', (50000, 32, 32, 3))\n",
      "('  y_train.shape:', (50000, 1))\n",
      "\u001b[1m\u001b[34m\n",
      "Testing:\u001b[0m\n",
      "('  x_test.shape:', (10000, 32, 32, 3))\n",
      "('  y_test.shape:', (10000, 1))\n"
     ]
    }
   ],
   "source": [
    "(x_train, y_train), (x_test, y_test) = cifar10.load_data()\n",
    "\n",
    "show_shapes(x_train, y_train, x_test, y_test)"
   ]
  },
  {
   "cell_type": "code",
   "execution_count": 8,
   "metadata": {},
   "outputs": [
    {
     "name": "stdout",
     "output_type": "stream",
     "text": [
      "\u001b[1m\u001b[34mx_train sample:\u001b[0m\n",
      "[[[ 59  62  63]\n",
      "  [ 43  46  45]\n",
      "  [ 50  48  43]\n",
      "  ...\n",
      "  [158 132 108]\n",
      "  [152 125 102]\n",
      "  [148 124 103]]\n",
      "\n",
      " [[ 16  20  20]\n",
      "  [  0   0   0]\n",
      "  [ 18   8   0]\n",
      "  ...\n",
      "  [123  88  55]\n",
      "  [119  83  50]\n",
      "  [122  87  57]]\n",
      "\n",
      " [[ 25  24  21]\n",
      "  [ 16   7   0]\n",
      "  [ 49  27   8]\n",
      "  ...\n",
      "  [118  84  50]\n",
      "  [120  84  50]\n",
      "  [109  73  42]]\n",
      "\n",
      " ...\n",
      "\n",
      " [[208 170  96]\n",
      "  [201 153  34]\n",
      "  [198 161  26]\n",
      "  ...\n",
      "  [160 133  70]\n",
      "  [ 56  31   7]\n",
      "  [ 53  34  20]]\n",
      "\n",
      " [[180 139  96]\n",
      "  [173 123  42]\n",
      "  [186 144  30]\n",
      "  ...\n",
      "  [184 148  94]\n",
      "  [ 97  62  34]\n",
      "  [ 83  53  34]]\n",
      "\n",
      " [[177 144 116]\n",
      "  [168 129  94]\n",
      "  [179 142  87]\n",
      "  ...\n",
      "  [216 184 140]\n",
      "  [151 118  84]\n",
      "  [123  92  72]]]\n",
      "\u001b[1m\u001b[34m\n",
      "y_train sample:\u001b[0m\n",
      "[6]\n",
      "\n",
      "------------------------------\n",
      "\n",
      "\n",
      "Image index 0\n",
      "\n",
      "('\\x1b[1m\\x1b[34mLabel:\\x1b[0m', array([6], dtype=uint8))\n",
      "('\\x1b[1m\\x1b[34mShape:\\x1b[0m', (32, 32, 3))\n",
      "()\n",
      "AxesImage(54,36;334.8x217.44)\n"
     ]
    },
    {
     "data": {
      "image/png": "[encoded data removed]",
      "text/plain": [
       "<Figure size 432x288 with 1 Axes>"
      ]
     },
     "metadata": {},
     "output_type": "display_data"
    }
   ],
   "source": [
    "show_sample(x_train, y_train)\n",
    "print '\\n' + 30*'-' + '\\n'\n",
    "print '\\nImage index 0\\n'\n",
    "show_sample_image(x_train, y_train)"
   ]
  },
  {
   "cell_type": "code",
   "execution_count": 9,
   "metadata": {},
   "outputs": [
    {
     "name": "stdout",
     "output_type": "stream",
     "text": [
      "\u001b[1m\u001b[34mx_train sample:\u001b[0m\n",
      "[[[213 229 242]\n",
      "  [211 227 240]\n",
      "  [211 227 240]\n",
      "  ...\n",
      "  [151 174 206]\n",
      "  [151 174 206]\n",
      "  [149 172 204]]\n",
      "\n",
      " [[214 229 241]\n",
      "  [212 227 239]\n",
      "  [212 227 239]\n",
      "  ...\n",
      "  [152 175 207]\n",
      "  [152 175 207]\n",
      "  [151 174 205]]\n",
      "\n",
      " [[216 229 239]\n",
      "  [214 227 237]\n",
      "  [213 227 237]\n",
      "  ...\n",
      "  [153 176 206]\n",
      "  [153 176 206]\n",
      "  [151 174 204]]\n",
      "\n",
      " ...\n",
      "\n",
      " [[145 159 165]\n",
      "  [136 148 154]\n",
      "  [143 152 158]\n",
      "  ...\n",
      "  [216 217 206]\n",
      "  [196 197 191]\n",
      "  [183 183 182]]\n",
      "\n",
      " [[139 153 159]\n",
      "  [129 142 148]\n",
      "  [129 139 145]\n",
      "  ...\n",
      "  [227 228 219]\n",
      "  [223 224 219]\n",
      "  [209 209 209]]\n",
      "\n",
      " [[137 152 157]\n",
      "  [143 155 161]\n",
      "  [136 145 152]\n",
      "  ...\n",
      "  [209 209 203]\n",
      "  [217 217 213]\n",
      "  [228 228 226]]]\n",
      "\u001b[1m\u001b[34m\n",
      "y_train sample:\u001b[0m\n",
      "[8]\n",
      "\n",
      "------------------------------\n",
      "\n",
      "\n",
      "Image index 1000\n",
      "\n",
      "('\\x1b[1m\\x1b[34mLabel:\\x1b[0m', array([9], dtype=uint8))\n",
      "('\\x1b[1m\\x1b[34mShape:\\x1b[0m', (32, 32, 3))\n",
      "()\n",
      "AxesImage(54,36;334.8x217.44)\n"
     ]
    },
    {
     "data": {
      "image/png": "[encoded data removed]",
      "text/plain": [
       "<Figure size 432x288 with 1 Axes>"
      ]
     },
     "metadata": {},
     "output_type": "display_data"
    }
   ],
   "source": [
    "show_sample(x_train, y_train,100)\n",
    "print '\\n' + 30*'-' + '\\n'\n",
    "print '\\nImage index 1000\\n'\n",
    "show_sample_image(x_train, y_train,1000)"
   ]
  },
  {
   "cell_type": "code",
   "execution_count": 10,
   "metadata": {},
   "outputs": [
    {
     "data": {
      "image/png": "[encoded data removed]",
      "text/plain": [
       "<Figure size 576x216 with 10 Axes>"
      ]
     },
     "metadata": {},
     "output_type": "display_data"
    }
   ],
   "source": [
    "# Print figure with 10 random images from cifar dataset\n",
    "fig = plt.figure(figsize=(8,3))\n",
    "for i in range(num_classes):\n",
    "    ax = fig.add_subplot(2, 5, 1 + i, xticks=[], yticks=[])\n",
    "    idx = np.where(y_train[:]==i)[0]\n",
    "    features_idx = x_train[idx,::]\n",
    "    img_num = np.random.randint(features_idx.shape[0])\n",
    "    im = np.transpose(features_idx[img_num,::],(0,1,2))\n",
    "    ax.set_title(class_label[i])\n",
    "    plt.imshow(im)\n",
    "plt.show()"
   ]
  },
  {
   "cell_type": "markdown",
   "metadata": {},
   "source": [
    "## Conclusion\n",
    "We understand that loading the CIFAR10 dataset we obtain:\n",
    "\n",
    "<ul>\n",
    "  <li><b><i>x_train and x_test</b></i>\n",
    "    <ul>\n",
    "      <li>uint8 array of RGB image data with shape (num_samples, 32, 32, 3).</li>\n",
    "    </ul>\n",
    "  </li>\n",
    "  <li><b><i>y_train and y_test</b></i>\n",
    "    <ul>\n",
    "      <li>uint8 array of category labels (integers in range 0-9) with shape (num_samples, 1).</li>\n",
    "    </ul>\n",
    "  </li>\n",
    "</ul>\n",
    "\n",
    "We can see also that the pixel values are in the range of 0 to 255 for each of the red, green and blue channels."
   ]
  },
  {
   "cell_type": "markdown",
   "metadata": {},
   "source": [
    "## Next Steps\n",
    "\n",
    "<ul>\n",
    "  <li><b>Data Normalization:</b> Bormalize the label data (Y axis) to ensure the proper manipulation on the model.</li>\n",
    "  <li><b>Model Definition:</b> Model definition based on targets.</li>\n",
    "</ul>"
   ]
  },
  {
   "cell_type": "code",
   "execution_count": null,
   "metadata": {},
   "outputs": [],
   "source": []
  }
 ],
 "metadata": {
  "kernelspec": {
   "display_name": "Python 2",
   "language": "python",
   "name": "python2"
  },
  "language_info": {
   "codemirror_mode": {
    "name": "ipython",
    "version": 2
   },
   "file_extension": ".py",
   "mimetype": "text/x-python",
   "name": "python",
   "nbconvert_exporter": "python",
   "pygments_lexer": "ipython2",
   "version": "2.7.15rc1"
  }
 },
 "nbformat": 4,
 "nbformat_minor": 2
}
