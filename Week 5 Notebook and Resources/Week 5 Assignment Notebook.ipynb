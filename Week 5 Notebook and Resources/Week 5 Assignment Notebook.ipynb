{
 "cells": [
  {
   "cell_type": "markdown",
   "metadata": {},
   "source": [
    "# Week 5 Assignment"
   ]
  },
  {
   "cell_type": "markdown",
   "metadata": {},
   "source": [
    "## <span style=\"color:red\">Programming Assignment 5: Neural Network on the notMIST dataset</span>"
   ]
  },
  {
   "cell_type": "markdown",
   "metadata": {},
   "source": [
    "Create a new Jupyter notebook. Using the code in the bottom of the Week 4 notebook, import the notMNIST dataset and create a training/testing split of the data. \n",
    "\n",
    "Train a neural network on the dataset using Keras. Experiment with both sigmoid and ReLU activations, different numbers of neurons in each layer, and different regularization settings. (Only use dense layer for this assignment.)\n",
    "\n",
    "Plot the loss of the network (using 'categorical_crossentropy').\n",
    "\n",
    "Keep your best result. Save the notebook as HTML and turn it in as a zip."
   ]
  },
  {
   "cell_type": "code",
   "execution_count": 1,
   "metadata": {},
   "outputs": [
    {
     "name": "stdout",
     "output_type": "stream",
     "text": [
      "(28, 28, 18724)\n",
      "(18724, 784)\n",
      "(18724, 10)\n"
     ]
    },
    {
     "name": "stderr",
     "output_type": "stream",
     "text": [
      "/usr/local/lib/python2.7/dist-packages/sklearn/cross_validation.py:41: DeprecationWarning: This module was deprecated in version 0.18 in favor of the model_selection module into which all the refactored classes and functions are moved. Also note that the interface of the new CV iterators are different from that of this module. This module will be removed in 0.20.\n",
      "  \"This module will be removed in 0.20.\", DeprecationWarning)\n"
     ]
    },
    {
     "data": {
      "text/plain": [
       "array([0.        , 0.00392157, 0.        , 0.        , 0.        ,\n",
       "       0.        , 0.        , 0.        , 0.        , 0.        ,\n",
       "       0.03137255, 0.16078432, 0.38039216, 0.6509804 , 0.87058824,\n",
       "       0.9764706 , 0.90588236, 0.6627451 , 0.4       , 0.11764706,\n",
       "       0.        , 0.00784314, 0.        , 0.        , 0.        ,\n",
       "       0.        , 0.        , 0.        , 0.        , 0.07450981,\n",
       "       0.3647059 , 0.44313726, 0.42745098, 0.4627451 , 0.5019608 ,\n",
       "       0.54509807, 0.6392157 , 0.77254903, 0.8627451 , 0.9607843 ,\n",
       "       1.        , 1.        , 1.        , 1.        , 1.        ,\n",
       "       0.99607843, 1.        , 0.94509804, 0.42352942, 0.        ,\n",
       "       0.00392157, 0.        , 0.        , 0.        , 0.        ,\n",
       "       0.        , 0.01176471, 0.654902  , 1.        , 0.9843137 ,\n",
       "       1.        , 1.        , 1.        , 1.        , 1.        ,\n",
       "       1.        , 1.        , 0.99607843, 0.98039216, 0.972549  ,\n",
       "       0.99215686, 1.        , 0.99607843, 0.9882353 , 0.99215686,\n",
       "       0.99215686, 1.        , 0.21568628, 0.        , 0.00784314,\n",
       "       0.        , 0.        , 0.        , 0.        , 0.05882353,\n",
       "       0.7529412 , 1.        , 0.98039216, 0.9764706 , 0.96862745,\n",
       "       0.96862745, 0.98039216, 0.99607843, 1.        , 1.        ,\n",
       "       1.        , 1.        , 1.        , 0.99607843, 1.        ,\n",
       "       1.        , 1.        , 1.        , 0.9843137 , 1.        ,\n",
       "       0.5372549 , 0.        , 0.00392157, 0.        , 0.        ,\n",
       "       0.        , 0.        , 0.        , 0.18039216, 0.74509805,\n",
       "       0.96862745, 1.        , 1.        , 1.        , 1.        ,\n",
       "       0.98039216, 0.9372549 , 0.85882354, 0.76862746, 0.6666667 ,\n",
       "       0.6627451 , 0.9372549 , 1.        , 0.99607843, 1.        ,\n",
       "       1.        , 0.99607843, 1.        , 0.85882354, 0.00392157,\n",
       "       0.        , 0.        , 0.        , 0.        , 0.        ,\n",
       "       0.        , 0.        , 0.        , 0.1254902 , 0.2784314 ,\n",
       "       0.3372549 , 0.3372549 , 0.24705882, 0.15294118, 0.07058824,\n",
       "       0.01960784, 0.        , 0.01568628, 0.        , 0.3764706 ,\n",
       "       1.        , 1.        , 0.99607843, 1.        , 1.        ,\n",
       "       1.        , 0.9764706 , 0.24705882, 0.        , 0.00784314,\n",
       "       0.        , 0.        , 0.        , 0.        , 0.00784314,\n",
       "       0.00392157, 0.        , 0.        , 0.        , 0.        ,\n",
       "       0.        , 0.        , 0.        , 0.        , 0.00392157,\n",
       "       0.01176471, 0.01568628, 0.        , 0.8117647 , 1.        ,\n",
       "       0.99607843, 1.        , 1.        , 0.99215686, 1.        ,\n",
       "       0.58431375, 0.        , 0.01568628, 0.        , 0.        ,\n",
       "       0.        , 0.        , 0.        , 0.00392157, 0.00392157,\n",
       "       0.01176471, 0.01568628, 0.01568628, 0.01176471, 0.00784314,\n",
       "       0.00392157, 0.00392157, 0.        , 0.        , 0.00784314,\n",
       "       0.        , 0.45882353, 1.        , 0.99607843, 1.        ,\n",
       "       1.        , 0.9882353 , 1.        , 0.8       , 0.03137255,\n",
       "       0.        , 0.00392157, 0.        , 0.        , 0.        ,\n",
       "       0.        , 0.        , 0.        , 0.        , 0.        ,\n",
       "       0.        , 0.        , 0.        , 0.        , 0.        ,\n",
       "       0.        , 0.        , 0.00392157, 0.        , 0.13725491,\n",
       "       0.9882353 , 1.        , 1.        , 1.        , 0.99607843,\n",
       "       1.        , 0.9764706 , 0.2901961 , 0.        , 0.01568628,\n",
       "       0.        , 0.        , 0.        , 0.        , 0.        ,\n",
       "       0.        , 0.        , 0.        , 0.        , 0.        ,\n",
       "       0.        , 0.        , 0.        , 0.        , 0.        ,\n",
       "       0.00392157, 0.        , 0.01960784, 0.6901961 , 1.        ,\n",
       "       0.9882353 , 1.        , 1.        , 0.98039216, 1.        ,\n",
       "       0.52156866, 0.        , 0.01568628, 0.        , 0.        ,\n",
       "       0.        , 0.        , 0.        , 0.        , 0.        ,\n",
       "       0.        , 0.        , 0.        , 0.        , 0.        ,\n",
       "       0.        , 0.        , 0.        , 0.        , 0.01176471,\n",
       "       0.        , 0.36862746, 1.        , 0.9843137 , 1.        ,\n",
       "       1.        , 0.9882353 , 1.        , 0.8       , 0.07450981,\n",
       "       0.        , 0.00392157, 0.        , 0.        , 0.        ,\n",
       "       0.        , 0.        , 0.        , 0.        , 0.        ,\n",
       "       0.        , 0.        , 0.        , 0.        , 0.        ,\n",
       "       0.        , 0.        , 0.00784314, 0.        , 0.15294118,\n",
       "       0.88235295, 1.        , 0.99215686, 1.        , 1.        ,\n",
       "       0.99215686, 1.        , 0.21960784, 0.        , 0.00784314,\n",
       "       0.        , 0.        , 0.        , 0.        , 0.        ,\n",
       "       0.        , 0.        , 0.        , 0.        , 0.        ,\n",
       "       0.        , 0.        , 0.        , 0.        , 0.        ,\n",
       "       0.00392157, 0.01176471, 0.        , 0.6666667 , 1.        ,\n",
       "       0.9843137 , 1.        , 1.        , 0.99215686, 1.        ,\n",
       "       0.5176471 , 0.        , 0.00392157, 0.        , 0.        ,\n",
       "       0.        , 0.        , 0.        , 0.        , 0.        ,\n",
       "       0.        , 0.        , 0.        , 0.        , 0.        ,\n",
       "       0.        , 0.        , 0.        , 0.        , 0.01568628,\n",
       "       0.        , 0.41568628, 1.        , 0.99607843, 0.99607843,\n",
       "       1.        , 0.99607843, 1.        , 0.85490197, 0.01176471,\n",
       "       0.        , 0.        , 0.        , 0.        , 0.        ,\n",
       "       0.        , 0.        , 0.        , 0.        , 0.        ,\n",
       "       0.        , 0.        , 0.        , 0.        , 0.        ,\n",
       "       0.00392157, 0.01176471, 0.01960784, 0.        , 0.20392157,\n",
       "       0.93333334, 1.        , 0.99607843, 1.        , 1.        ,\n",
       "       1.        , 0.98039216, 0.23137255, 0.        , 0.00392157,\n",
       "       0.        , 0.        , 0.        , 0.        , 0.        ,\n",
       "       0.        , 0.        , 0.        , 0.00392157, 0.00784314,\n",
       "       0.01568628, 0.01176471, 0.00392157, 0.        , 0.        ,\n",
       "       0.        , 0.00784314, 0.        , 0.8352941 , 1.        ,\n",
       "       0.99215686, 1.        , 1.        , 0.99215686, 1.        ,\n",
       "       0.5803922 , 0.        , 0.01568628, 0.        , 0.        ,\n",
       "       0.        , 0.        , 0.        , 0.00392157, 0.01176471,\n",
       "       0.01176471, 0.        , 0.        , 0.        , 0.        ,\n",
       "       0.00392157, 0.08235294, 0.2       , 0.31764707, 0.41960785,\n",
       "       0.43529412, 0.8666667 , 1.        , 0.99607843, 1.        ,\n",
       "       1.        , 0.9882353 , 1.        , 0.80784315, 0.01960784,\n",
       "       0.        , 0.        , 0.        , 0.        , 0.00392157,\n",
       "       0.01176471, 0.        , 0.        , 0.        , 0.01568628,\n",
       "       0.16862746, 0.3764706 , 0.5803922 , 0.7764706 , 0.92941177,\n",
       "       1.        , 1.        , 1.        , 1.        , 1.        ,\n",
       "       1.        , 0.99607843, 1.        , 1.        , 0.99607843,\n",
       "       1.        , 0.96862745, 0.28235295, 0.        , 0.        ,\n",
       "       0.00392157, 0.01568628, 0.00392157, 0.        , 0.03529412,\n",
       "       0.24705882, 0.5568628 , 0.8235294 , 0.98039216, 1.        ,\n",
       "       1.        , 1.        , 1.        , 1.        , 0.99607843,\n",
       "       1.        , 0.9411765 , 0.8235294 , 0.87058824, 1.        ,\n",
       "       0.99607843, 1.        , 1.        , 0.98039216, 1.        ,\n",
       "       0.52156866, 0.        , 0.00784314, 0.00784314, 0.        ,\n",
       "       0.05882353, 0.48235294, 0.85882354, 0.99607843, 1.        ,\n",
       "       1.        , 0.99607843, 0.9764706 , 0.98039216, 0.99607843,\n",
       "       1.        , 0.95686275, 0.70980394, 0.38431373, 0.12156863,\n",
       "       0.        , 0.07450981, 0.7921569 , 1.        , 0.9882353 ,\n",
       "       1.        , 0.9882353 , 1.        , 0.76862746, 0.07058824,\n",
       "       0.        , 0.03921569, 0.41960785, 0.88235295, 1.        ,\n",
       "       0.99607843, 0.99607843, 0.9882353 , 0.9843137 , 0.9882353 ,\n",
       "       1.        , 1.        , 0.84313726, 0.4862745 , 0.12941177,\n",
       "       0.        , 0.        , 0.        , 0.01960784, 0.        ,\n",
       "       0.4862745 , 1.        , 0.9882353 , 1.        , 0.99607843,\n",
       "       1.        , 0.9647059 , 0.18039216, 0.2901961 , 0.8392157 ,\n",
       "       1.        , 0.99607843, 0.9882353 , 0.99215686, 1.        ,\n",
       "       1.        , 1.        , 1.        , 0.7921569 , 0.32156864,\n",
       "       0.02745098, 0.        , 0.        , 0.00784314, 0.01568628,\n",
       "       0.00784314, 0.01568628, 0.        , 0.30588236, 0.972549  ,\n",
       "       1.        , 0.99607843, 1.        , 0.9882353 , 1.        ,\n",
       "       0.32941177, 0.98039216, 1.        , 0.9882353 , 0.99215686,\n",
       "       1.        , 1.        , 0.99607843, 1.        , 0.8509804 ,\n",
       "       0.29803923, 0.00392157, 0.        , 0.00392157, 0.02352941,\n",
       "       0.01960784, 0.01568628, 0.01568628, 0.01568628, 0.02745098,\n",
       "       0.        , 0.29411766, 0.96862745, 1.        , 0.99607843,\n",
       "       1.        , 0.99215686, 1.        , 0.5372549 , 0.93333334,\n",
       "       1.        , 0.99215686, 0.9843137 , 0.99607843, 1.        ,\n",
       "       0.9882353 , 1.        , 0.5803922 , 0.0627451 , 0.03529412,\n",
       "       0.00392157, 0.        , 0.        , 0.        , 0.        ,\n",
       "       0.        , 0.00392157, 0.00784314, 0.        , 0.5764706 ,\n",
       "       1.        , 0.9882353 , 1.        , 1.        , 0.99607843,\n",
       "       1.        , 0.70980394, 0.1764706 , 0.6784314 , 0.99215686,\n",
       "       1.        , 1.        , 0.9882353 , 0.9882353 , 0.99215686,\n",
       "       1.        , 0.96862745, 0.8784314 , 0.79607844, 0.6901961 ,\n",
       "       0.61960787, 0.5686275 , 0.5137255 , 0.4745098 , 0.45882353,\n",
       "       0.4862745 , 0.7294118 , 0.99215686, 1.        , 1.        ,\n",
       "       1.        , 1.        , 0.99607843, 1.        , 0.8666667 ,\n",
       "       0.        , 0.        , 0.21568628, 0.63529414, 0.9411765 ,\n",
       "       1.        , 0.99607843, 1.        , 1.        , 1.        ,\n",
       "       1.        , 1.        , 1.        , 1.        , 1.        ,\n",
       "       1.        , 1.        , 1.        , 1.        , 1.        ,\n",
       "       0.99607843, 1.        , 1.        , 0.99607843, 0.99607843,\n",
       "       0.9843137 , 1.        , 0.81960785, 0.01176471, 0.00784314,\n",
       "       0.        , 0.        , 0.09019608, 0.36078432, 0.6431373 ,\n",
       "       0.8392157 , 0.96862745, 1.        , 1.        , 1.        ,\n",
       "       1.        , 1.        , 1.        , 1.        , 0.99607843,\n",
       "       0.9882353 , 0.9843137 , 0.99215686, 1.        , 1.        ,\n",
       "       1.        , 1.        , 1.        , 0.99607843, 1.        ,\n",
       "       0.3882353 , 0.        , 0.        , 0.01176471, 0.01176471,\n",
       "       0.        , 0.00392157, 0.        , 0.03137255, 0.16862746,\n",
       "       0.28235295, 0.41960785, 0.5686275 , 0.7019608 , 0.8039216 ,\n",
       "       0.84313726, 0.8784314 , 0.9137255 , 0.9490196 , 0.9882353 ,\n",
       "       1.        , 0.99215686, 0.9843137 , 0.9647059 , 0.9254902 ,\n",
       "       0.84705883, 0.6862745 , 0.29411766, 0.        ], dtype=float32)"
      ]
     },
     "execution_count": 1,
     "metadata": {},
     "output_type": "execute_result"
    }
   ],
   "source": [
    "%matplotlib inline\n",
    "import matplotlib.pyplot as plt\n",
    "import pandas as pd\n",
    "import numpy as np\n",
    "from sklearn import cross_validation\n",
    "from scipy.io import loadmat\n",
    "data = loadmat('notMNIST_small.mat')\n",
    "X_temp = data['images']/255\n",
    "\n",
    "#for i in range(X_temp.shape[2]):\n",
    "    \n",
    "X = np.empty(shape=[X_temp.shape[2]] + [784], dtype='float32')\n",
    "for i in range(X_temp.shape[2]):\n",
    "    X[i,:] = X_temp[:,:,i].flatten()\n",
    "\n",
    "y = pd.get_dummies(data['labels']).as_matrix()\n",
    "\n",
    "print X_temp.shape\n",
    "print X.shape\n",
    "print y.shape\n",
    "X[1,:]"
   ]
  },
  {
   "cell_type": "code",
   "execution_count": 2,
   "metadata": {
    "scrolled": false
   },
   "outputs": [
    {
     "name": "stdout",
     "output_type": "stream",
     "text": [
      "(28, 28)\n"
     ]
    },
    {
     "data": {
      "image/png": "[encoded data removed]",
      "text/plain": [
       "<Figure size 432x288 with 1 Axes>"
      ]
     },
     "metadata": {},
     "output_type": "display_data"
    }
   ],
   "source": [
    "print X_temp[:,:,3].shape\n",
    "plt.imshow(X_temp[:,:,3],cmap=\"gray\");"
   ]
  },
  {
   "cell_type": "code",
   "execution_count": 3,
   "metadata": {},
   "outputs": [
    {
     "data": {
      "image/png": "[encoded data removed]",
      "text/plain": [
       "<Figure size 432x288 with 1 Axes>"
      ]
     },
     "metadata": {},
     "output_type": "display_data"
    }
   ],
   "source": [
    "plt.imshow(X_temp[:,:,4504],cmap=\"gray\");"
   ]
  },
  {
   "cell_type": "markdown",
   "metadata": {},
   "source": [
    "To feed notMNIST instances into a neural network, they need to be reshaped, from a 2 dimensional image representation to a single dimension sequence."
   ]
  },
  {
   "cell_type": "code",
   "execution_count": 4,
   "metadata": {},
   "outputs": [
    {
     "name": "stdout",
     "output_type": "stream",
     "text": [
      "(14979, 784)\n",
      "(14979, 10)\n",
      "(3745, 784)\n",
      "(3745, 10)\n"
     ]
    }
   ],
   "source": [
    "X_train, X_test, y_train, y_test = cross_validation.train_test_split(\n",
    "    X, y, test_size=0.2, random_state=50)\n",
    "print X_train.shape\n",
    "print y_train.shape\n",
    "\n",
    "print X_test.shape\n",
    "print y_test.shape"
   ]
  },
  {
   "cell_type": "markdown",
   "metadata": {},
   "source": [
    "The code in our example uses the Sequential class. It first calls the constructor, after which calls are made to the add() method to add layers to the model. \n",
    "\n",
    "The first such call adds a layer of type Dense (\"Just your regular densely-connected NN layer\").\n",
    "\n",
    "We can see also a subset of \"Dropout\" blocks between our Dense methods. Dropout  is a regularization technique where randomly selected neurons are ignored during training. They are “dropped-out” randomly. This means that their contribution to the activation of downstream neurons is temporally removed on the forward pass and any weight updates are not applied to the neuron on the backward pass."
   ]
  },
  {
   "cell_type": "markdown",
   "metadata": {},
   "source": [
    "# Simple Neural Network"
   ]
  },
  {
   "cell_type": "code",
   "execution_count": 69,
   "metadata": {},
   "outputs": [],
   "source": [
    "from keras.models import Sequential\n",
    "from keras.layers import Dense, Dropout, Flatten\n",
    "from keras.regularizers import l2, l1\n",
    "from keras.utils.vis_utils import model_to_dot\n",
    "from IPython.display import SVG\n",
    "import livelossplot\n",
    "\n",
    "plot_losses = livelossplot.PlotLossesKeras()\n",
    "\n",
    "# Build Neural Network \n",
    "# Dropout rate between 20% to 50% s used as is a weight constraint.\n",
    "model = Sequential()\n",
    "model.add(Dense(1024, activation='relu', input_shape=[784]))\n",
    "model.add(Dropout(0.5))\n",
    "model.add(Dense(512, activation='relu'))\n",
    "model.add(Dropout(0.5))\n",
    "model.add(Dense(128, activation='relu'))\n",
    "model.add(Dropout(0.5))\n",
    "model.add(Dense(10, activation='softmax'))\n",
    "\n",
    "#Softmax - multiple dimentions\n",
    "#Sigmoid - uni-dimentional\n",
    "\n",
    "# Compile model\n",
    "model.compile(optimizer='adam',\n",
    "              loss='categorical_crossentropy',\n",
    "              metrics=['accuracy'])\n"
   ]
  },
  {
   "cell_type": "code",
   "execution_count": 70,
   "metadata": {},
   "outputs": [
    {
     "name": "stdout",
     "output_type": "stream",
     "text": [
      "_________________________________________________________________\n",
      "Layer (type)                 Output Shape              Param #   \n",
      "=================================================================\n",
      "dense_68 (Dense)             (None, 1024)              803840    \n",
      "_________________________________________________________________\n",
      "dropout_45 (Dropout)         (None, 1024)              0         \n",
      "_________________________________________________________________\n",
      "dense_69 (Dense)             (None, 512)               524800    \n",
      "_________________________________________________________________\n",
      "dropout_46 (Dropout)         (None, 512)               0         \n",
      "_________________________________________________________________\n",
      "dense_70 (Dense)             (None, 128)               65664     \n",
      "_________________________________________________________________\n",
      "dropout_47 (Dropout)         (None, 128)               0         \n",
      "_________________________________________________________________\n",
      "dense_71 (Dense)             (None, 10)                1290      \n",
      "=================================================================\n",
      "Total params: 1,395,594\n",
      "Trainable params: 1,395,594\n",
      "Non-trainable params: 0\n",
      "_________________________________________________________________\n"
     ]
    }
   ],
   "source": [
    "# Summary of neural network\n",
    "model.summary()"
   ]
  },
  {
   "cell_type": "code",
   "execution_count": 71,
   "metadata": {},
   "outputs": [
    {
     "data": {
      "image/png": "[encoded data removed]",
      "text/plain": [
       "<Figure size 864x576 with 2 Axes>"
      ]
     },
     "metadata": {},
     "output_type": "display_data"
    },
    {
     "name": "stdout",
     "output_type": "stream",
     "text": [
      "('Test loss:', 0.2732940193648682)\n",
      "('Test accuracy:', 0.9204272363150868)\n"
     ]
    }
   ],
   "source": [
    "# Train model\n",
    "model.fit(X_train, y_train,\n",
    "          batch_size=256,\n",
    "          epochs=10,\n",
    "          callbacks=[plot_losses],\n",
    "          verbose=1,\n",
    "          validation_data=(X_test, y_test))\n",
    "\n",
    "# Loss and Accuracy\n",
    "score = model.evaluate(X_test, y_test, verbose=0)\n",
    "print('Test loss:', score[0])\n",
    "print('Test accuracy:', score[1])"
   ]
  },
  {
   "cell_type": "code",
   "execution_count": 72,
   "metadata": {},
   "outputs": [
    {
     "data": {
      "image/svg+xml": [
       "<svg height=\"556pt\" viewBox=\"0.00 0.00 178.00 556.00\" width=\"178pt\" xmlns=\"http://www.w3.org/2000/svg\" xmlns:xlink=\"http://www.w3.org/1999/xlink\">\n",
       "<g class=\"graph\" id=\"graph0\" transform=\"scale(1 1) rotate(0) translate(4 552)\">\n",
       "<title>G</title>\n",
       "<polygon fill=\"#ffffff\" points=\"-4,4 -4,-552 174,-552 174,4 -4,4\" stroke=\"transparent\"/>\n",
       "<!-- 140041309858512 -->\n",
       "<g class=\"node\" id=\"node1\">\n",
       "<title>140041309858512</title>\n",
       "<polygon fill=\"none\" points=\"0,-511.5 0,-547.5 170,-547.5 170,-511.5 0,-511.5\" stroke=\"#000000\"/>\n",
       "<text fill=\"#000000\" font-family=\"Times,serif\" font-size=\"14.00\" text-anchor=\"middle\" x=\"85\" y=\"-525.8\">dense_68_input: InputLayer</text>\n",
       "</g>\n",
       "<!-- 140041309857744 -->\n",
       "<g class=\"node\" id=\"node2\">\n",
       "<title>140041309857744</title>\n",
       "<polygon fill=\"none\" points=\"30.5,-438.5 30.5,-474.5 139.5,-474.5 139.5,-438.5 30.5,-438.5\" stroke=\"#000000\"/>\n",
       "<text fill=\"#000000\" font-family=\"Times,serif\" font-size=\"14.00\" text-anchor=\"middle\" x=\"85\" y=\"-452.8\">dense_68: Dense</text>\n",
       "</g>\n",
       "<!-- 140041309858512&#45;&gt;140041309857744 -->\n",
       "<g class=\"edge\" id=\"edge1\">\n",
       "<title>140041309858512-&gt;140041309857744</title>\n",
       "<path d=\"M85,-511.4551C85,-503.3828 85,-493.6764 85,-484.6817\" fill=\"none\" stroke=\"#000000\"/>\n",
       "<polygon fill=\"#000000\" points=\"88.5001,-484.5903 85,-474.5904 81.5001,-484.5904 88.5001,-484.5903\" stroke=\"#000000\"/>\n",
       "</g>\n",
       "<!-- 140041309859024 -->\n",
       "<g class=\"node\" id=\"node3\">\n",
       "<title>140041309859024</title>\n",
       "<polygon fill=\"none\" points=\"19.5,-365.5 19.5,-401.5 150.5,-401.5 150.5,-365.5 19.5,-365.5\" stroke=\"#000000\"/>\n",
       "<text fill=\"#000000\" font-family=\"Times,serif\" font-size=\"14.00\" text-anchor=\"middle\" x=\"85\" y=\"-379.8\">dropout_45: Dropout</text>\n",
       "</g>\n",
       "<!-- 140041309857744&#45;&gt;140041309859024 -->\n",
       "<g class=\"edge\" id=\"edge2\">\n",
       "<title>140041309857744-&gt;140041309859024</title>\n",
       "<path d=\"M85,-438.4551C85,-430.3828 85,-420.6764 85,-411.6817\" fill=\"none\" stroke=\"#000000\"/>\n",
       "<polygon fill=\"#000000\" points=\"88.5001,-411.5903 85,-401.5904 81.5001,-411.5904 88.5001,-411.5903\" stroke=\"#000000\"/>\n",
       "</g>\n",
       "<!-- 140041307976464 -->\n",
       "<g class=\"node\" id=\"node4\">\n",
       "<title>140041307976464</title>\n",
       "<polygon fill=\"none\" points=\"30.5,-292.5 30.5,-328.5 139.5,-328.5 139.5,-292.5 30.5,-292.5\" stroke=\"#000000\"/>\n",
       "<text fill=\"#000000\" font-family=\"Times,serif\" font-size=\"14.00\" text-anchor=\"middle\" x=\"85\" y=\"-306.8\">dense_69: Dense</text>\n",
       "</g>\n",
       "<!-- 140041309859024&#45;&gt;140041307976464 -->\n",
       "<g class=\"edge\" id=\"edge3\">\n",
       "<title>140041309859024-&gt;140041307976464</title>\n",
       "<path d=\"M85,-365.4551C85,-357.3828 85,-347.6764 85,-338.6817\" fill=\"none\" stroke=\"#000000\"/>\n",
       "<polygon fill=\"#000000\" points=\"88.5001,-338.5903 85,-328.5904 81.5001,-338.5904 88.5001,-338.5903\" stroke=\"#000000\"/>\n",
       "</g>\n",
       "<!-- 140041307979216 -->\n",
       "<g class=\"node\" id=\"node5\">\n",
       "<title>140041307979216</title>\n",
       "<polygon fill=\"none\" points=\"19.5,-219.5 19.5,-255.5 150.5,-255.5 150.5,-219.5 19.5,-219.5\" stroke=\"#000000\"/>\n",
       "<text fill=\"#000000\" font-family=\"Times,serif\" font-size=\"14.00\" text-anchor=\"middle\" x=\"85\" y=\"-233.8\">dropout_46: Dropout</text>\n",
       "</g>\n",
       "<!-- 140041307976464&#45;&gt;140041307979216 -->\n",
       "<g class=\"edge\" id=\"edge4\">\n",
       "<title>140041307976464-&gt;140041307979216</title>\n",
       "<path d=\"M85,-292.4551C85,-284.3828 85,-274.6764 85,-265.6817\" fill=\"none\" stroke=\"#000000\"/>\n",
       "<polygon fill=\"#000000\" points=\"88.5001,-265.5903 85,-255.5904 81.5001,-265.5904 88.5001,-265.5903\" stroke=\"#000000\"/>\n",
       "</g>\n",
       "<!-- 140041307052880 -->\n",
       "<g class=\"node\" id=\"node6\">\n",
       "<title>140041307052880</title>\n",
       "<polygon fill=\"none\" points=\"30.5,-146.5 30.5,-182.5 139.5,-182.5 139.5,-146.5 30.5,-146.5\" stroke=\"#000000\"/>\n",
       "<text fill=\"#000000\" font-family=\"Times,serif\" font-size=\"14.00\" text-anchor=\"middle\" x=\"85\" y=\"-160.8\">dense_70: Dense</text>\n",
       "</g>\n",
       "<!-- 140041307979216&#45;&gt;140041307052880 -->\n",
       "<g class=\"edge\" id=\"edge5\">\n",
       "<title>140041307979216-&gt;140041307052880</title>\n",
       "<path d=\"M85,-219.4551C85,-211.3828 85,-201.6764 85,-192.6817\" fill=\"none\" stroke=\"#000000\"/>\n",
       "<polygon fill=\"#000000\" points=\"88.5001,-192.5903 85,-182.5904 81.5001,-192.5904 88.5001,-192.5903\" stroke=\"#000000\"/>\n",
       "</g>\n",
       "<!-- 140041178191504 -->\n",
       "<g class=\"node\" id=\"node7\">\n",
       "<title>140041178191504</title>\n",
       "<polygon fill=\"none\" points=\"19.5,-73.5 19.5,-109.5 150.5,-109.5 150.5,-73.5 19.5,-73.5\" stroke=\"#000000\"/>\n",
       "<text fill=\"#000000\" font-family=\"Times,serif\" font-size=\"14.00\" text-anchor=\"middle\" x=\"85\" y=\"-87.8\">dropout_47: Dropout</text>\n",
       "</g>\n",
       "<!-- 140041307052880&#45;&gt;140041178191504 -->\n",
       "<g class=\"edge\" id=\"edge6\">\n",
       "<title>140041307052880-&gt;140041178191504</title>\n",
       "<path d=\"M85,-146.4551C85,-138.3828 85,-128.6764 85,-119.6817\" fill=\"none\" stroke=\"#000000\"/>\n",
       "<polygon fill=\"#000000\" points=\"88.5001,-119.5903 85,-109.5904 81.5001,-119.5904 88.5001,-119.5903\" stroke=\"#000000\"/>\n",
       "</g>\n",
       "<!-- 140041321344720 -->\n",
       "<g class=\"node\" id=\"node8\">\n",
       "<title>140041321344720</title>\n",
       "<polygon fill=\"none\" points=\"30.5,-.5 30.5,-36.5 139.5,-36.5 139.5,-.5 30.5,-.5\" stroke=\"#000000\"/>\n",
       "<text fill=\"#000000\" font-family=\"Times,serif\" font-size=\"14.00\" text-anchor=\"middle\" x=\"85\" y=\"-14.8\">dense_71: Dense</text>\n",
       "</g>\n",
       "<!-- 140041178191504&#45;&gt;140041321344720 -->\n",
       "<g class=\"edge\" id=\"edge7\">\n",
       "<title>140041178191504-&gt;140041321344720</title>\n",
       "<path d=\"M85,-73.4551C85,-65.3828 85,-55.6764 85,-46.6817\" fill=\"none\" stroke=\"#000000\"/>\n",
       "<polygon fill=\"#000000\" points=\"88.5001,-46.5903 85,-36.5904 81.5001,-46.5904 88.5001,-46.5903\" stroke=\"#000000\"/>\n",
       "</g>\n",
       "</g>\n",
       "</svg>"
      ],
      "text/plain": [
       "<IPython.core.display.SVG object>"
      ]
     },
     "execution_count": 72,
     "metadata": {},
     "output_type": "execute_result"
    }
   ],
   "source": [
    "# Output network visualization\n",
    "SVG(model_to_dot(model).create(prog='dot', format='svg'))"
   ]
  }
 ],
 "metadata": {
  "kernelspec": {
   "display_name": "Python 2",
   "language": "python",
   "name": "python2"
  },
  "language_info": {
   "codemirror_mode": {
    "name": "ipython",
    "version": 2
   },
   "file_extension": ".py",
   "mimetype": "text/x-python",
   "name": "python",
   "nbconvert_exporter": "python",
   "pygments_lexer": "ipython2",
   "version": "2.7.15rc1"
  }
 },
 "nbformat": 4,
 "nbformat_minor": 1
}
